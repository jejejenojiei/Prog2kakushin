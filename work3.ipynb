{
  "nbformat": 4,
  "nbformat_minor": 0,
  "metadata": {
    "colab": {
      "provenance": [],
      "authorship_tag": "ABX9TyP69iCpzBBWZEiAuuZrwUtl",
      "include_colab_link": true
    },
    "kernelspec": {
      "name": "python3",
      "display_name": "Python 3"
    },
    "language_info": {
      "name": "python"
    }
  },
  "cells": [
    {
      "cell_type": "markdown",
      "metadata": {
        "id": "view-in-github",
        "colab_type": "text"
      },
      "source": [
        "<a href=\"https://colab.research.google.com/github/jejejenojiei/Prog2kakushin/blob/main/work3.ipynb\" target=\"_parent\"><img src=\"https://colab.research.google.com/assets/colab-badge.svg\" alt=\"Open In Colab\"/></a>"
      ]
    },
    {
      "cell_type": "markdown",
      "source": [
        "#プログラミングII 第14回演習課題\n",
        "* Turtleライブラリを用いたじゃんけん\n",
        "  * プレイヤーをコンピュータがじゃんけんをし、それぞれのコマンドをTurtleが頑張って描きます\n"
      ],
      "metadata": {
        "id": "FJaQICe8qnZN"
      }
    },
    {
      "cell_type": "code",
      "source": [],
      "metadata": {
        "id": "SNIXgpQEsBsS"
      },
      "execution_count": null,
      "outputs": []
    }
  ]
}