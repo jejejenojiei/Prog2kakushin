{
  "nbformat": 4,
  "nbformat_minor": 0,
  "metadata": {
    "colab": {
      "provenance": [],
      "authorship_tag": "ABX9TyPPsMTzfZOuK4qzefs6CXrM",
      "include_colab_link": true
    },
    "kernelspec": {
      "name": "python3",
      "display_name": "Python 3"
    },
    "language_info": {
      "name": "python"
    }
  },
  "cells": [
    {
      "cell_type": "markdown",
      "metadata": {
        "id": "view-in-github",
        "colab_type": "text"
      },
      "source": [
        "<a href=\"https://colab.research.google.com/github/jejejenojiei/Prog2kakushin/blob/main/work2.ipynb\" target=\"_parent\"><img src=\"https://colab.research.google.com/assets/colab-badge.svg\" alt=\"Open In Colab\"/></a>"
      ]
    },
    {
      "cell_type": "markdown",
      "source": [
        "#プログラミングII 第13回演習課題\n",
        "* numpyライブラリを用いて、入力された主音から、その主音を持つ長調の1音階を出力します。"
      ],
      "metadata": {
        "id": "sHqe0H0nsFY6"
      }
    },
    {
      "cell_type": "code",
      "source": [],
      "metadata": {
        "id": "iCYNVRp5xvAm"
      },
      "execution_count": null,
      "outputs": []
    }
  ]
}