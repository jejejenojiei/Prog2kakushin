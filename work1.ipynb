{
  "nbformat": 4,
  "nbformat_minor": 0,
  "metadata": {
    "colab": {
      "provenance": [],
      "authorship_tag": "ABX9TyPXSMqhCjQoYWtw0e0cCVFX",
      "include_colab_link": true
    },
    "kernelspec": {
      "name": "python3",
      "display_name": "Python 3"
    },
    "language_info": {
      "name": "python"
    }
  },
  "cells": [
    {
      "cell_type": "markdown",
      "metadata": {
        "id": "view-in-github",
        "colab_type": "text"
      },
      "source": [
        "<a href=\"https://colab.research.google.com/github/jejejenojiei/Prog2kakushin/blob/main/work1.ipynb\" target=\"_parent\"><img src=\"https://colab.research.google.com/assets/colab-badge.svg\" alt=\"Open In Colab\"/></a>"
      ]
    },
    {
      "cell_type": "markdown",
      "source": [
        "#プログラミングII 第12回演習課題\n",
        "* pandasライブラリを用いて、都道府県、ご飯or食パンor中華麺、消費量or支出額を入力すると、その都道府県の令和一年度における選択した食材の一人当たりの消費量、又は支出額の順位を表示します。  \n",
        "なお、参考とするURL:[消費量の都道府県ランキング一覧](https://region-case.com/list-rank-consume/)から、csvファイルを作成するものとする\n",
        "\n",
        "追記：中華麺の字体は\"麺\"です"
      ],
      "metadata": {
        "id": "-EALWNjptl2r"
      }
    },
    {
      "cell_type": "code",
      "source": [
        "!wget \"https://drive.google.com/uc?export=download&id=1A6d_-D2Ai1gbFzCgjWJQA7gy3BQwpayn\" -O ご飯.csv\n",
        "!wget \"https://drive.google.com/uc?export=download&id=1cHkJUYnQoJx919wPuVvfIOM4up5y2VvA\" -O 中華麺.csv\n",
        "!wget \"https://drive.google.com/uc?export=download&id=1mWaOqshgYTQ4w72cXvx780GNWeb1hUJT\" -O 食パン.csv"
      ],
      "metadata": {
        "id": "cin8Ua6_yP64",
        "outputId": "ccfb71c5-9eb5-4f49-b65d-4453907da0aa",
        "colab": {
          "base_uri": "https://localhost:8080/"
        }
      },
      "execution_count": 76,
      "outputs": [
        {
          "output_type": "stream",
          "name": "stdout",
          "text": [
            "--2022-12-22 08:58:00--  https://drive.google.com/uc?export=download&id=1A6d_-D2Ai1gbFzCgjWJQA7gy3BQwpayn\n",
            "Resolving drive.google.com (drive.google.com)... 74.125.142.101, 74.125.142.102, 74.125.142.113, ...\n",
            "Connecting to drive.google.com (drive.google.com)|74.125.142.101|:443... connected.\n",
            "HTTP request sent, awaiting response... 303 See Other\n",
            "Location: https://doc-10-5s-docs.googleusercontent.com/docs/securesc/ha0ro937gcuc7l7deffksulhg5h7mbp1/4jcvc5n73s7tui63i2dputo4d4dotf96/1671699450000/03449849506364242206/*/1A6d_-D2Ai1gbFzCgjWJQA7gy3BQwpayn?e=download&uuid=6dc5bd42-56ac-4e15-b088-af2f40adad18 [following]\n",
            "Warning: wildcards not supported in HTTP.\n",
            "--2022-12-22 08:58:01--  https://doc-10-5s-docs.googleusercontent.com/docs/securesc/ha0ro937gcuc7l7deffksulhg5h7mbp1/4jcvc5n73s7tui63i2dputo4d4dotf96/1671699450000/03449849506364242206/*/1A6d_-D2Ai1gbFzCgjWJQA7gy3BQwpayn?e=download&uuid=6dc5bd42-56ac-4e15-b088-af2f40adad18\n",
            "Resolving doc-10-5s-docs.googleusercontent.com (doc-10-5s-docs.googleusercontent.com)... 173.194.203.132, 2607:f8b0:400e:c05::84\n",
            "Connecting to doc-10-5s-docs.googleusercontent.com (doc-10-5s-docs.googleusercontent.com)|173.194.203.132|:443... connected.\n",
            "HTTP request sent, awaiting response... 200 OK\n",
            "Length: 1642 (1.6K) [text/csv]\n",
            "Saving to: ‘ご飯.csv’\n",
            "\n",
            "ご飯.csv            100%[===================>]   1.60K  --.-KB/s    in 0s      \n",
            "\n",
            "2022-12-22 08:58:01 (66.3 MB/s) - ‘ご飯.csv’ saved [1642/1642]\n",
            "\n",
            "--2022-12-22 08:58:01--  https://drive.google.com/uc?export=download&id=1cHkJUYnQoJx919wPuVvfIOM4up5y2VvA\n",
            "Resolving drive.google.com (drive.google.com)... 74.125.142.101, 74.125.142.102, 74.125.142.113, ...\n",
            "Connecting to drive.google.com (drive.google.com)|74.125.142.101|:443... connected.\n",
            "HTTP request sent, awaiting response... 303 See Other\n",
            "Location: https://doc-0o-5s-docs.googleusercontent.com/docs/securesc/ha0ro937gcuc7l7deffksulhg5h7mbp1/hfo7881gr2u0d7vs0bj6gpg3bpc5b4il/1671699450000/03449849506364242206/*/1cHkJUYnQoJx919wPuVvfIOM4up5y2VvA?e=download&uuid=3eca80b0-62b2-4fba-9178-bbbffb45d6f6 [following]\n",
            "Warning: wildcards not supported in HTTP.\n",
            "--2022-12-22 08:58:01--  https://doc-0o-5s-docs.googleusercontent.com/docs/securesc/ha0ro937gcuc7l7deffksulhg5h7mbp1/hfo7881gr2u0d7vs0bj6gpg3bpc5b4il/1671699450000/03449849506364242206/*/1cHkJUYnQoJx919wPuVvfIOM4up5y2VvA?e=download&uuid=3eca80b0-62b2-4fba-9178-bbbffb45d6f6\n",
            "Resolving doc-0o-5s-docs.googleusercontent.com (doc-0o-5s-docs.googleusercontent.com)... 173.194.203.132, 2607:f8b0:400e:c05::84\n",
            "Connecting to doc-0o-5s-docs.googleusercontent.com (doc-0o-5s-docs.googleusercontent.com)|173.194.203.132|:443... connected.\n",
            "HTTP request sent, awaiting response... 200 OK\n",
            "Length: 1720 (1.7K) [text/csv]\n",
            "Saving to: ‘中華麺.csv’\n",
            "\n",
            "中華麺.csv          100%[===================>]   1.68K  --.-KB/s    in 0s      \n",
            "\n",
            "2022-12-22 08:58:02 (66.0 MB/s) - ‘中華麺.csv’ saved [1720/1720]\n",
            "\n",
            "--2022-12-22 08:58:02--  https://drive.google.com/uc?export=download&id=1mWaOqshgYTQ4w72cXvx780GNWeb1hUJT\n",
            "Resolving drive.google.com (drive.google.com)... 74.125.142.101, 74.125.142.102, 74.125.142.113, ...\n",
            "Connecting to drive.google.com (drive.google.com)|74.125.142.101|:443... connected.\n",
            "HTTP request sent, awaiting response... 303 See Other\n",
            "Location: https://doc-08-5s-docs.googleusercontent.com/docs/securesc/ha0ro937gcuc7l7deffksulhg5h7mbp1/gan5gnabdrs27j99n4telrt18tl6iabt/1671699450000/03449849506364242206/*/1mWaOqshgYTQ4w72cXvx780GNWeb1hUJT?e=download&uuid=a21e29c1-e468-4172-8ffe-9c17dc216418 [following]\n",
            "Warning: wildcards not supported in HTTP.\n",
            "--2022-12-22 08:58:02--  https://doc-08-5s-docs.googleusercontent.com/docs/securesc/ha0ro937gcuc7l7deffksulhg5h7mbp1/gan5gnabdrs27j99n4telrt18tl6iabt/1671699450000/03449849506364242206/*/1mWaOqshgYTQ4w72cXvx780GNWeb1hUJT?e=download&uuid=a21e29c1-e468-4172-8ffe-9c17dc216418\n",
            "Resolving doc-08-5s-docs.googleusercontent.com (doc-08-5s-docs.googleusercontent.com)... 173.194.203.132, 2607:f8b0:400e:c05::84\n",
            "Connecting to doc-08-5s-docs.googleusercontent.com (doc-08-5s-docs.googleusercontent.com)|173.194.203.132|:443... connected.\n",
            "HTTP request sent, awaiting response... 200 OK\n",
            "Length: 1736 (1.7K) [text/csv]\n",
            "Saving to: ‘食パン.csv’\n",
            "\n",
            "食パン.csv          100%[===================>]   1.70K  --.-KB/s    in 0s      \n",
            "\n",
            "2022-12-22 08:58:03 (68.0 MB/s) - ‘食パン.csv’ saved [1736/1736]\n",
            "\n"
          ]
        }
      ]
    },
    {
      "cell_type": "code",
      "source": [
        "import pandas as pd\n",
        "df=pd.read_csv(\"ご飯.csv\")\n",
        "df2=pd.read_csv(\"食パン.csv\")\n",
        "df3=pd.read_csv(\"中華麺.csv\")\n",
        "name=input(\"ご飯 or 食パン or 中華麺？:\")\n",
        "value=input(\"消費量 or 支出額？:\")\n",
        "place=input(\"都道府県？：\")\n",
        "if name==\"ご飯\":\n",
        "  dfans=df[df[\"都道府県\"].str.contains(str(place))]\n",
        "  if value==\"消費量\":\n",
        "    dfans=dfans.drop(\"金額\",axis=1)\n",
        "  if value==\"支出額\":\n",
        "    dfans=dfans.drop(\"数\",axis=1)\n",
        "if name==\"食パン\":\n",
        "  dfans=df2[df2[\"都道府県\"].str.contains(str(place))]\n",
        "  if value==\"消費量\":\n",
        "    dfans=dfans.drop(\"金額\",axis=1)\n",
        "  if value==\"支出額\":\n",
        "    dfans=dfans.drop(\"数\",axis=1)\n",
        "if name==\"中華麺\":\n",
        "  dfans=df3[df3[\"都道府県\"].str.contains(str(place))]\n",
        "  if value==\"消費量\":\n",
        "    dfans=dfans.drop(\"金額\",axis=1)\n",
        "  if value==\"支出額\":\n",
        "    dfans=dfans.drop(\"数\",axis=1)\n",
        "dfans"
      ],
      "metadata": {
        "id": "ByKeTBOPxHzq",
        "colab": {
          "base_uri": "https://localhost:8080/",
          "height": 133
        },
        "outputId": "f65e12f6-f6f0-474d-e3a9-83c36f5bd8ee"
      },
      "execution_count": 68,
      "outputs": [
        {
          "name": "stdout",
          "output_type": "stream",
          "text": [
            "ご飯 or 食パン or 中華麺？:食パン\n",
            "消費量 or 支出額？:消費量\n",
            "都道府県？：山口県\n"
          ]
        },
        {
          "output_type": "execute_result",
          "data": {
            "text/plain": [
              "   都道府県      数   順位\n",
              "34  山口県  23.5斤  08位"
            ],
            "text/html": [
              "\n",
              "  <div id=\"df-95f9a8be-7666-4c5c-9dd3-952c3aaf7592\">\n",
              "    <div class=\"colab-df-container\">\n",
              "      <div>\n",
              "<style scoped>\n",
              "    .dataframe tbody tr th:only-of-type {\n",
              "        vertical-align: middle;\n",
              "    }\n",
              "\n",
              "    .dataframe tbody tr th {\n",
              "        vertical-align: top;\n",
              "    }\n",
              "\n",
              "    .dataframe thead th {\n",
              "        text-align: right;\n",
              "    }\n",
              "</style>\n",
              "<table border=\"1\" class=\"dataframe\">\n",
              "  <thead>\n",
              "    <tr style=\"text-align: right;\">\n",
              "      <th></th>\n",
              "      <th>都道府県</th>\n",
              "      <th>数</th>\n",
              "      <th>順位</th>\n",
              "    </tr>\n",
              "  </thead>\n",
              "  <tbody>\n",
              "    <tr>\n",
              "      <th>34</th>\n",
              "      <td>山口県</td>\n",
              "      <td>23.5斤</td>\n",
              "      <td>08位</td>\n",
              "    </tr>\n",
              "  </tbody>\n",
              "</table>\n",
              "</div>\n",
              "      <button class=\"colab-df-convert\" onclick=\"convertToInteractive('df-95f9a8be-7666-4c5c-9dd3-952c3aaf7592')\"\n",
              "              title=\"Convert this dataframe to an interactive table.\"\n",
              "              style=\"display:none;\">\n",
              "        \n",
              "  <svg xmlns=\"http://www.w3.org/2000/svg\" height=\"24px\"viewBox=\"0 0 24 24\"\n",
              "       width=\"24px\">\n",
              "    <path d=\"M0 0h24v24H0V0z\" fill=\"none\"/>\n",
              "    <path d=\"M18.56 5.44l.94 2.06.94-2.06 2.06-.94-2.06-.94-.94-2.06-.94 2.06-2.06.94zm-11 1L8.5 8.5l.94-2.06 2.06-.94-2.06-.94L8.5 2.5l-.94 2.06-2.06.94zm10 10l.94 2.06.94-2.06 2.06-.94-2.06-.94-.94-2.06-.94 2.06-2.06.94z\"/><path d=\"M17.41 7.96l-1.37-1.37c-.4-.4-.92-.59-1.43-.59-.52 0-1.04.2-1.43.59L10.3 9.45l-7.72 7.72c-.78.78-.78 2.05 0 2.83L4 21.41c.39.39.9.59 1.41.59.51 0 1.02-.2 1.41-.59l7.78-7.78 2.81-2.81c.8-.78.8-2.07 0-2.86zM5.41 20L4 18.59l7.72-7.72 1.47 1.35L5.41 20z\"/>\n",
              "  </svg>\n",
              "      </button>\n",
              "      \n",
              "  <style>\n",
              "    .colab-df-container {\n",
              "      display:flex;\n",
              "      flex-wrap:wrap;\n",
              "      gap: 12px;\n",
              "    }\n",
              "\n",
              "    .colab-df-convert {\n",
              "      background-color: #E8F0FE;\n",
              "      border: none;\n",
              "      border-radius: 50%;\n",
              "      cursor: pointer;\n",
              "      display: none;\n",
              "      fill: #1967D2;\n",
              "      height: 32px;\n",
              "      padding: 0 0 0 0;\n",
              "      width: 32px;\n",
              "    }\n",
              "\n",
              "    .colab-df-convert:hover {\n",
              "      background-color: #E2EBFA;\n",
              "      box-shadow: 0px 1px 2px rgba(60, 64, 67, 0.3), 0px 1px 3px 1px rgba(60, 64, 67, 0.15);\n",
              "      fill: #174EA6;\n",
              "    }\n",
              "\n",
              "    [theme=dark] .colab-df-convert {\n",
              "      background-color: #3B4455;\n",
              "      fill: #D2E3FC;\n",
              "    }\n",
              "\n",
              "    [theme=dark] .colab-df-convert:hover {\n",
              "      background-color: #434B5C;\n",
              "      box-shadow: 0px 1px 3px 1px rgba(0, 0, 0, 0.15);\n",
              "      filter: drop-shadow(0px 1px 2px rgba(0, 0, 0, 0.3));\n",
              "      fill: #FFFFFF;\n",
              "    }\n",
              "  </style>\n",
              "\n",
              "      <script>\n",
              "        const buttonEl =\n",
              "          document.querySelector('#df-95f9a8be-7666-4c5c-9dd3-952c3aaf7592 button.colab-df-convert');\n",
              "        buttonEl.style.display =\n",
              "          google.colab.kernel.accessAllowed ? 'block' : 'none';\n",
              "\n",
              "        async function convertToInteractive(key) {\n",
              "          const element = document.querySelector('#df-95f9a8be-7666-4c5c-9dd3-952c3aaf7592');\n",
              "          const dataTable =\n",
              "            await google.colab.kernel.invokeFunction('convertToInteractive',\n",
              "                                                     [key], {});\n",
              "          if (!dataTable) return;\n",
              "\n",
              "          const docLinkHtml = 'Like what you see? Visit the ' +\n",
              "            '<a target=\"_blank\" href=https://colab.research.google.com/notebooks/data_table.ipynb>data table notebook</a>'\n",
              "            + ' to learn more about interactive tables.';\n",
              "          element.innerHTML = '';\n",
              "          dataTable['output_type'] = 'display_data';\n",
              "          await google.colab.output.renderOutput(dataTable, element);\n",
              "          const docLink = document.createElement('div');\n",
              "          docLink.innerHTML = docLinkHtml;\n",
              "          element.appendChild(docLink);\n",
              "        }\n",
              "      </script>\n",
              "    </div>\n",
              "  </div>\n",
              "  "
            ]
          },
          "metadata": {},
          "execution_count": 68
        }
      ]
    }
  ]
}