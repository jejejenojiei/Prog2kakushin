{
  "nbformat": 4,
  "nbformat_minor": 0,
  "metadata": {
    "colab": {
      "provenance": [],
      "authorship_tag": "ABX9TyOYUHvYn26l8Rj14qL36qcr",
      "include_colab_link": true
    },
    "kernelspec": {
      "name": "python3",
      "display_name": "Python 3"
    },
    "language_info": {
      "name": "python"
    }
  },
  "cells": [
    {
      "cell_type": "markdown",
      "metadata": {
        "id": "view-in-github",
        "colab_type": "text"
      },
      "source": [
        "<a href=\"https://colab.research.google.com/github/jejejenojiei/Prog2kakushin/blob/main/work1.ipynb\" target=\"_parent\"><img src=\"https://colab.research.google.com/assets/colab-badge.svg\" alt=\"Open In Colab\"/></a>"
      ]
    },
    {
      "cell_type": "markdown",
      "source": [
        "#プログラミングII 第12回演習課題\n",
        "* pandasライブラリを用いて、都道府県、ご飯or食パンor中華麺、消費量or支出額を入力すると、その都道府県の令和一年度における選択した食材の一人当たりの消費量、又は支出額の順位を表示します。  \n",
        "なお、参考とするURL:[消費量の都道府県ランキング一覧](https://region-case.com/list-rank-consume/)から、csvファイルを作成するものとする"
      ],
      "metadata": {
        "id": "-EALWNjptl2r"
      }
    },
    {
      "cell_type": "code",
      "source": [],
      "metadata": {
        "id": "ByKeTBOPxHzq"
      },
      "execution_count": null,
      "outputs": []
    }
  ]
}